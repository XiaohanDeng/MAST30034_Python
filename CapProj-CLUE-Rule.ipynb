{
  "nbformat": 4,
  "nbformat_minor": 0,
  "metadata": {
    "colab": {
      "provenance": [],
      "authorship_tag": "ABX9TyOwu3rLPrhswReStZml5UrW",
      "include_colab_link": true
    },
    "kernelspec": {
      "name": "python3",
      "display_name": "Python 3"
    },
    "language_info": {
      "name": "python"
    }
  },
  "cells": [
    {
      "cell_type": "markdown",
      "metadata": {
        "id": "view-in-github",
        "colab_type": "text"
      },
      "source": [
        "<a href=\"https://colab.research.google.com/github/XiaohanDeng/MAST30034_Python/blob/main/CapProj-CLUE-Rule.ipynb\" target=\"_parent\"><img src=\"https://colab.research.google.com/assets/colab-badge.svg\" alt=\"Open In Colab\"/></a>"
      ]
    },
    {
      "cell_type": "code",
      "execution_count": null,
      "metadata": {
        "id": "_rZLvkSh6G86"
      },
      "outputs": [],
      "source": [
        "import geopandas as gpd\n",
        "import pandas as pd\n",
        "from shapely.geometry import Polygon\n",
        "from itertools import combinations\n",
        "\n",
        "# ===============================\n",
        "# 加载数据 Read File\n",
        "# ===============================\n",
        "gdf = gpd.read_file(\"vic-lgovt-com-com-clue-floor-use-block-2011-na.json\")\n",
        "\n",
        "print(\"CRS:\", gdf.crs)\n",
        "print(\"First 5 rows:\")\n",
        "display(gdf.head())\n",
        "print(\"Data types:\")\n",
        "print(gdf.dtypes)\n",
        "\n",
        "\n",
        "# ===============================\n",
        "# 1. Geometry Rules\n",
        "# ===============================\n",
        "\n",
        "# Rule 1: 检查无效几何\n",
        "# Invalid Geometry of Polygons (self-intersection,zero area, repeated points)\n",
        "\n",
        "invalid_geoms = gdf[~gdf.is_valid]\n",
        "print(f\"Invalid geometries: {len(invalid_geoms)}\")\n",
        "\n",
        "# Rule 2: Overlapping Geometry 检查重叠几何\n",
        "sindex = gdf.sindex\n",
        "overlaps = []\n",
        "for idx1, row1 in gdf.iterrows():\n",
        "    possible_matches = list(sindex.intersection(row1.geometry.bounds))\n",
        "    for idx2 in possible_matches:\n",
        "        if idx1 != idx2:\n",
        "            if row1.geometry.intersects(gdf.iloc[idx2].geometry):\n",
        "                overlaps.append((idx1, idx2))\n",
        "print(f\"Overlapping feature pairs (first 5): {overlaps[:5]}\") #first 5 as examples\n",
        "print(f\"Total overlaps: {len(overlaps)}\")\n",
        "\n",
        "\n",
        "# ===============================\n",
        "# 2. Attribute Rules\n",
        "# ===============================\n",
        "\n",
        "# Rule 3: 检查 NULL 值（confidentiality）\n",
        "null_counts = gdf.isnull().sum()\n",
        "print(\"🔍 Null values per column:\\n\", null_counts)\n",
        "\n",
        "# Rule 4: Floor space 必须 ≥ 0\n",
        "if \"floor_space\" in gdf.columns:\n",
        "    negative_values = gdf[gdf[\"floor_space\"] < 0]\n",
        "    print(f\"❌ Negative floor_space count: {len(negative_values)}\")\n",
        "\n",
        "# Rule 5: 检查分项总和与总列一致\n",
        "if \"total\" in gdf.columns:\n",
        "    component_cols = [col for col in gdf.columns if col not in [\"geometry\", \"total\"]]\n",
        "    gdf[\"component_sum\"] = gdf[component_cols].sum(axis=1, skipna=True)\n",
        "    inconsistent = gdf[gdf[\"component_sum\"] > gdf[\"total\"]]\n",
        "    print(f\"❌ Inconsistent totals (component_sum > total): {len(inconsistent)}\")\n",
        "\n",
        "\n",
        "# ===============================\n",
        "# 3. Spatial Integrity Rules\n",
        "# ===============================\n",
        "\n",
        "# Rule 6: 检查 CRS 是否定义\n",
        "if gdf.crs is None:\n",
        "    print(\"❌ CRS is missing!\")\n",
        "else:\n",
        "    print(f\"✅ CRS defined: {gdf.crs}\")\n",
        "\n",
        "\n",
        "# ===============================\n",
        "# 4. Business Logic Rules\n",
        "# ===============================\n",
        "\n",
        "# Rule 7: 每个 block 的空间用途不应冲突\n",
        "if \"block_id\" in gdf.columns and \"space_use\" in gdf.columns:\n",
        "    conflict_blocks = gdf.groupby(\"block_id\")[\"space_use\"].nunique()\n",
        "    conflict_blocks = conflict_blocks[conflict_blocks > 3]  # 自定义阈值，比如超过 3 种用途就算冲突\n",
        "    print(f\"❌ Conflict blocks (>3 different uses): {len(conflict_blocks)}\")\n"
      ]
    }
  ]
}